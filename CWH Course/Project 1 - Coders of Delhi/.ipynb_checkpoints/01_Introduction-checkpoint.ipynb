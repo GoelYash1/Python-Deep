{
 "cells": [
  {
   "cell_type": "markdown",
   "id": "a5c50b92-0313-45fd-8d3e-d99757515c8b",
   "metadata": {},
   "source": [
    "### Introduction\n",
    "Congratulations! You have been selected in an esteemed job. You are a data scientist"
   ]
  },
  {
   "cell_type": "code",
   "execution_count": 1,
   "id": "9adf3cd5-71c6-40e2-a563-0d2caa34074a",
   "metadata": {},
   "outputs": [],
   "source": [
    "import json"
   ]
  },
  {
   "cell_type": "code",
   "execution_count": 2,
   "id": "a33bf753-1567-438c-a63e-b8acaded2394",
   "metadata": {},
   "outputs": [],
   "source": [
    "# Lets write a function to load the data\n",
    "def load_data(filename):\n",
    "    with open(filename,\"r\") as f:\n",
    "        data = json.load(f)\n",
    "    return data"
   ]
  },
  {
   "cell_type": "code",
   "execution_count": 3,
   "id": "2ce6b11f-2f0d-4008-828d-c69df7d45d3d",
   "metadata": {},
   "outputs": [],
   "source": [
    "data = load_data(\"data.json\")"
   ]
  },
  {
   "cell_type": "code",
   "execution_count": 4,
   "id": "9ea46b15-7c6f-4e74-bad6-3542b176295c",
   "metadata": {},
   "outputs": [
    {
     "data": {
      "text/plain": [
       "{'users': [{'id': 1, 'name': 'Amit', 'friends': [2, 3], 'liked_pages': [101]},\n",
       "  {'id': 2, 'name': 'Priya', 'friends': [1, 4], 'liked_pages': [102]},\n",
       "  {'id': 3, 'name': 'Rahul', 'friends': [1], 'liked_pages': [101, 103]},\n",
       "  {'id': 4, 'name': 'Sara', 'friends': [2], 'liked_pages': [104]}],\n",
       " 'pages': [{'id': 101, 'name': 'Python Developers'},\n",
       "  {'id': 102, 'name': 'Data Science Enthusiasts'},\n",
       "  {'id': 103, 'name': 'AI & ML Community'},\n",
       "  {'id': 104, 'name': 'Web Dev Hub'}]}"
      ]
     },
     "execution_count": 4,
     "metadata": {},
     "output_type": "execute_result"
    }
   ],
   "source": [
    "data"
   ]
  },
  {
   "cell_type": "code",
   "execution_count": 5,
   "id": "f5316393-2ad0-493b-9e7d-d76f8e799560",
   "metadata": {},
   "outputs": [],
   "source": [
    "# Write a function to display users and their connections\n",
    "def display_users(data):\n",
    "    user_map = {user['id']: user['name'] for user in data['users']}\n",
    "    page_map = {page['id']: page['name'] for page in data['pages']}\n",
    "    print(\"User Information:\")\n",
    "    for user in data['users']:\n",
    "        friend_ids = user[\"friends\"]\n",
    "        liked_page_ids = user[\"liked_pages\"]\n",
    "        # Use the map for instant, correct lookups.\n",
    "        # The .get() method safely handles cases where a friend ID might not exist in the map.\n",
    "        \n",
    "        friends = [(fid, user_map.get(fid, \"Unknown User\")) for fid in friend_ids]\n",
    "        liked_pages = [(pid, page_map.get(pid, \"Unknown Page\")) for pid in liked_page_ids]\n",
    "        print(f\"ID:{user['id']} - {user['name']} is friends with: {friends} and likes {liked_pages} pages\")\n",
    "        \n",
    "    print(\"\\nPage Information:\")\n",
    "    for page in data['pages']:\n",
    "        print(f\"{page['id']}: {page['name']}\")\n",
    "        "
   ]
  },
  {
   "cell_type": "code",
   "execution_count": 6,
   "id": "0d4f893d-1962-4926-8c94-c0d7b58972e8",
   "metadata": {},
   "outputs": [
    {
     "name": "stdout",
     "output_type": "stream",
     "text": [
      "User Information:\n",
      "ID:1 - Amit is friends with: [(2, 'Priya'), (3, 'Rahul')] and likes [(101, 'Python Developers')] pages\n",
      "ID:2 - Priya is friends with: [(1, 'Amit'), (4, 'Sara')] and likes [(102, 'Data Science Enthusiasts')] pages\n",
      "ID:3 - Rahul is friends with: [(1, 'Amit')] and likes [(101, 'Python Developers'), (103, 'AI & ML Community')] pages\n",
      "ID:4 - Sara is friends with: [(2, 'Priya')] and likes [(104, 'Web Dev Hub')] pages\n",
      "\n",
      "Page Information:\n",
      "101: Python Developers\n",
      "102: Data Science Enthusiasts\n",
      "103: AI & ML Community\n",
      "104: Web Dev Hub\n"
     ]
    }
   ],
   "source": [
    "display_users(data)"
   ]
  }
 ],
 "metadata": {
  "kernelspec": {
   "display_name": "Python 3 (ipykernel)",
   "language": "python",
   "name": "python3"
  },
  "language_info": {
   "codemirror_mode": {
    "name": "ipython",
    "version": 3
   },
   "file_extension": ".py",
   "mimetype": "text/x-python",
   "name": "python",
   "nbconvert_exporter": "python",
   "pygments_lexer": "ipython3",
   "version": "3.13.5"
  }
 },
 "nbformat": 4,
 "nbformat_minor": 5
}
