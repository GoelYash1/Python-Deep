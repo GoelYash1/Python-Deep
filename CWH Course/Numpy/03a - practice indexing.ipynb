{
 "cells": [
  {
   "cell_type": "code",
   "execution_count": 1,
   "id": "e44210ca-c2c4-4b7f-80a5-76d5b687a78d",
   "metadata": {},
   "outputs": [],
   "source": [
    "import random\n",
    "import numpy as np"
   ]
  },
  {
   "cell_type": "code",
   "execution_count": 2,
   "id": "5f2ec0d6-3b63-4f0d-8e80-308965ddedf6",
   "metadata": {},
   "outputs": [
    {
     "data": {
      "text/plain": [
       "(3, 3)"
      ]
     },
     "execution_count": 2,
     "metadata": {},
     "output_type": "execute_result"
    }
   ],
   "source": [
    "# randint to get a 3*3 matrix\n",
    "l = [[random.randint(0, 10) for _ in range(3)] for _ in range(3)]\n",
    "arr = np.array(l)\n",
    "arr.shape"
   ]
  },
  {
   "cell_type": "code",
   "execution_count": 3,
   "id": "6053d30a-c9d8-48f2-a252-d8efacb423af",
   "metadata": {},
   "outputs": [
    {
     "data": {
      "text/plain": [
       "array([1, 2, 3], dtype=int32)"
      ]
     },
     "execution_count": 3,
     "metadata": {},
     "output_type": "execute_result"
    }
   ],
   "source": [
    "# float to int\n",
    "arr = np.array([1.1,2.2,3.3])\n",
    "arr.astype(\"int32\")"
   ]
  },
  {
   "cell_type": "code",
   "execution_count": 4,
   "id": "80898261-7530-438f-87ec-4aa0ad8f88bc",
   "metadata": {},
   "outputs": [
    {
     "data": {
      "text/plain": [
       "[np.int64(2), np.int64(4), np.int64(6)]"
      ]
     },
     "execution_count": 4,
     "metadata": {},
     "output_type": "execute_result"
    }
   ],
   "source": [
    "# even arr\n",
    "arr = np.array([1,2,3,4,5,6])\n",
    "arr = [item for item in arr if item%2==0]\n",
    "arr"
   ]
  },
  {
   "cell_type": "code",
   "execution_count": 5,
   "id": "9f729e98-6a7c-4e7a-be4d-e578ed51eb82",
   "metadata": {},
   "outputs": [
    {
     "data": {
      "text/plain": [
       "array([[0, 1, 2],\n",
       "       [3, 4, 5],\n",
       "       [6, 7, 8]])"
      ]
     },
     "execution_count": 5,
     "metadata": {},
     "output_type": "execute_result"
    }
   ],
   "source": [
    "# reshape\n",
    "arr = np.arange(0,9)\n",
    "arr.reshape(3,3)"
   ]
  },
  {
   "cell_type": "code",
   "execution_count": 6,
   "id": "fd1cf662-f890-4d2d-ab65-7944b81b3003",
   "metadata": {},
   "outputs": [
    {
     "data": {
      "text/plain": [
       "array([ 72,  93,  96, 100])"
      ]
     },
     "execution_count": 6,
     "metadata": {},
     "output_type": "execute_result"
    }
   ],
   "source": [
    "# boolean masking\n",
    "arr = np.array([random.randint(0,101) for _ in range(10)])\n",
    "arr = arr[arr>50]\n",
    "arr"
   ]
  }
 ],
 "metadata": {
  "kernelspec": {
   "display_name": "Python 3 (ipykernel)",
   "language": "python",
   "name": "python3"
  },
  "language_info": {
   "codemirror_mode": {
    "name": "ipython",
    "version": 3
   },
   "file_extension": ".py",
   "mimetype": "text/x-python",
   "name": "python",
   "nbconvert_exporter": "python",
   "pygments_lexer": "ipython3",
   "version": "3.13.5"
  }
 },
 "nbformat": 4,
 "nbformat_minor": 5
}
