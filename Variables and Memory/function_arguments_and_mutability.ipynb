{
 "cells": [
  {
   "cell_type": "code",
   "execution_count": 1,
   "id": "04fb45c2",
   "metadata": {},
   "outputs": [],
   "source": [
    "# For immutable strings, function retains the orignal value\n",
    "def process(s):\n",
    "    print(f\"Initial s # = {id(s)}\")\n",
    "    s = s + 'world'\n",
    "    print(f\"Final s # = {id(s)}\")"
   ]
  },
  {
   "cell_type": "code",
   "execution_count": 2,
   "id": "5aa5eb42",
   "metadata": {},
   "outputs": [
    {
     "data": {
      "text/plain": [
       "2084407750464"
      ]
     },
     "execution_count": 2,
     "metadata": {},
     "output_type": "execute_result"
    }
   ],
   "source": [
    "my_var = 'Hello'\n",
    "id(my_var)"
   ]
  },
  {
   "cell_type": "code",
   "execution_count": 3,
   "id": "95ec6659",
   "metadata": {},
   "outputs": [
    {
     "name": "stdout",
     "output_type": "stream",
     "text": [
      "Initial s # = 2084407750464\n",
      "Final s # = 2084408258672\n"
     ]
    }
   ],
   "source": [
    "process(my_var)"
   ]
  },
  {
   "cell_type": "code",
   "execution_count": 4,
   "id": "02db9484",
   "metadata": {},
   "outputs": [
    {
     "data": {
      "text/plain": [
       "'Hello'"
      ]
     },
     "execution_count": 4,
     "metadata": {},
     "output_type": "execute_result"
    }
   ],
   "source": [
    "my_var"
   ]
  },
  {
   "cell_type": "code",
   "execution_count": 5,
   "id": "5088c9c5",
   "metadata": {},
   "outputs": [],
   "source": [
    "# For mutable list we have to be more careful, it will mutata the input\n",
    "def modify_list(lst):\n",
    "    print(f\"Initial lst # = {id(lst)}\")\n",
    "    lst.append(100)\n",
    "    print(f\"Final lst # = {id(lst)}\")"
   ]
  },
  {
   "cell_type": "code",
   "execution_count": 6,
   "id": "fff185d8",
   "metadata": {},
   "outputs": [],
   "source": [
    "lst = [1,2]"
   ]
  },
  {
   "cell_type": "code",
   "execution_count": 7,
   "id": "cf92bc78",
   "metadata": {},
   "outputs": [
    {
     "data": {
      "text/plain": [
       "2084408017088"
      ]
     },
     "execution_count": 7,
     "metadata": {},
     "output_type": "execute_result"
    }
   ],
   "source": [
    "id(lst)"
   ]
  },
  {
   "cell_type": "code",
   "execution_count": 8,
   "id": "12c3017f",
   "metadata": {},
   "outputs": [
    {
     "name": "stdout",
     "output_type": "stream",
     "text": [
      "Initial lst # = 2084408017088\n",
      "Final lst # = 2084408017088\n"
     ]
    }
   ],
   "source": [
    "modify_list(lst)"
   ]
  },
  {
   "cell_type": "code",
   "execution_count": 9,
   "id": "eb718ba9",
   "metadata": {},
   "outputs": [
    {
     "data": {
      "text/plain": [
       "[1, 2, 100]"
      ]
     },
     "execution_count": 9,
     "metadata": {},
     "output_type": "execute_result"
    }
   ],
   "source": [
    "lst"
   ]
  },
  {
   "cell_type": "code",
   "execution_count": 10,
   "id": "fd890141",
   "metadata": {},
   "outputs": [],
   "source": [
    "# For mutable objects in immutable object are also not safe from changes\n",
    "def modify_tuple(t):\n",
    "    print(f\"Initial t # = {id(t)}\")\n",
    "    t[0].append(100)\n",
    "    print(f\"Final t # = {id(t)}\")"
   ]
  },
  {
   "cell_type": "code",
   "execution_count": 11,
   "id": "2e6b9e8a",
   "metadata": {},
   "outputs": [],
   "source": [
    "t = ([1,2],\"a\")"
   ]
  },
  {
   "cell_type": "code",
   "execution_count": 12,
   "id": "34689bf1",
   "metadata": {},
   "outputs": [
    {
     "name": "stdout",
     "output_type": "stream",
     "text": [
      "([1, 2], 'a')\n"
     ]
    },
    {
     "data": {
      "text/plain": [
       "2084408117184"
      ]
     },
     "execution_count": 12,
     "metadata": {},
     "output_type": "execute_result"
    }
   ],
   "source": [
    "print(t)\n",
    "id(t)"
   ]
  },
  {
   "cell_type": "code",
   "execution_count": 13,
   "id": "d0d4e631",
   "metadata": {},
   "outputs": [
    {
     "name": "stdout",
     "output_type": "stream",
     "text": [
      "Initial t # = 2084408117184\n",
      "Final t # = 2084408117184\n"
     ]
    }
   ],
   "source": [
    "modify_tuple(t)"
   ]
  },
  {
   "cell_type": "code",
   "execution_count": 14,
   "id": "4bf94f20",
   "metadata": {},
   "outputs": [
    {
     "data": {
      "text/plain": [
       "([1, 2, 100], 'a')"
      ]
     },
     "execution_count": 14,
     "metadata": {},
     "output_type": "execute_result"
    }
   ],
   "source": [
    "t"
   ]
  }
 ],
 "metadata": {
  "kernelspec": {
   "display_name": "Python 3 (ipykernel)",
   "language": "python",
   "name": "python3"
  },
  "language_info": {
   "codemirror_mode": {
    "name": "ipython",
    "version": 3
   },
   "file_extension": ".py",
   "mimetype": "text/x-python",
   "name": "python",
   "nbconvert_exporter": "python",
   "pygments_lexer": "ipython3",
   "version": "3.13.5"
  }
 },
 "nbformat": 4,
 "nbformat_minor": 5
}
