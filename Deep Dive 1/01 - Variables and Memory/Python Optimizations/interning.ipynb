{
 "cells": [
  {
   "cell_type": "markdown",
   "id": "d7841ab6",
   "metadata": {},
   "source": [
    "Till from -5 to 256, the addresses are stored as cache in CPython\n",
    "\n",
    "Many immutable objects are stored as intern\n",
    "\n",
    "[-5,256]"
   ]
  },
  {
   "cell_type": "code",
   "execution_count": 1,
   "id": "1725a910",
   "metadata": {},
   "outputs": [],
   "source": [
    "a = 10\n",
    "b = 10"
   ]
  },
  {
   "cell_type": "code",
   "execution_count": 2,
   "id": "c5a2e392",
   "metadata": {},
   "outputs": [
    {
     "data": {
      "text/plain": [
       "140730927789256"
      ]
     },
     "execution_count": 2,
     "metadata": {},
     "output_type": "execute_result"
    }
   ],
   "source": [
    "id(a)"
   ]
  },
  {
   "cell_type": "code",
   "execution_count": 3,
   "id": "498d9f1a",
   "metadata": {},
   "outputs": [
    {
     "data": {
      "text/plain": [
       "140730927789256"
      ]
     },
     "execution_count": 3,
     "metadata": {},
     "output_type": "execute_result"
    }
   ],
   "source": [
    "id(b)"
   ]
  },
  {
   "cell_type": "code",
   "execution_count": 4,
   "id": "befecd45",
   "metadata": {},
   "outputs": [],
   "source": [
    "a = 256\n",
    "b = 256"
   ]
  },
  {
   "cell_type": "code",
   "execution_count": 5,
   "id": "01622580",
   "metadata": {},
   "outputs": [
    {
     "data": {
      "text/plain": [
       "140730927797128"
      ]
     },
     "execution_count": 5,
     "metadata": {},
     "output_type": "execute_result"
    }
   ],
   "source": [
    "id(a)"
   ]
  },
  {
   "cell_type": "code",
   "execution_count": 6,
   "id": "d27ba966",
   "metadata": {},
   "outputs": [
    {
     "data": {
      "text/plain": [
       "140730927797128"
      ]
     },
     "execution_count": 6,
     "metadata": {},
     "output_type": "execute_result"
    }
   ],
   "source": [
    "id(b)"
   ]
  },
  {
   "cell_type": "code",
   "execution_count": 7,
   "id": "2f5113b1",
   "metadata": {},
   "outputs": [],
   "source": [
    "a = 257\n",
    "b = 257"
   ]
  },
  {
   "cell_type": "code",
   "execution_count": 8,
   "id": "e2e592f0",
   "metadata": {},
   "outputs": [
    {
     "data": {
      "text/plain": [
       "2451559168464"
      ]
     },
     "execution_count": 8,
     "metadata": {},
     "output_type": "execute_result"
    }
   ],
   "source": [
    "id(a)"
   ]
  },
  {
   "cell_type": "code",
   "execution_count": 9,
   "id": "ae198a0a",
   "metadata": {},
   "outputs": [
    {
     "data": {
      "text/plain": [
       "2451559168144"
      ]
     },
     "execution_count": 9,
     "metadata": {},
     "output_type": "execute_result"
    }
   ],
   "source": [
    "id(b)"
   ]
  }
 ],
 "metadata": {
  "kernelspec": {
   "display_name": "Python 3 (ipykernel)",
   "language": "python",
   "name": "python3"
  },
  "language_info": {
   "codemirror_mode": {
    "name": "ipython",
    "version": 3
   },
   "file_extension": ".py",
   "mimetype": "text/x-python",
   "name": "python",
   "nbconvert_exporter": "python",
   "pygments_lexer": "ipython3",
   "version": "3.13.5"
  }
 },
 "nbformat": 4,
 "nbformat_minor": 5
}
