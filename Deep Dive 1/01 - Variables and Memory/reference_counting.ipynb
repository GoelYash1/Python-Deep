{
 "cells": [
  {
   "cell_type": "code",
   "execution_count": 1,
   "id": "5a62be5d",
   "metadata": {},
   "outputs": [],
   "source": [
    "import ctypes\n",
    "import sys"
   ]
  },
  {
   "cell_type": "code",
   "execution_count": 2,
   "id": "6f5b4bbd",
   "metadata": {},
   "outputs": [],
   "source": [
    "def ref_count(address: int):\n",
    "    return ctypes.c_long.from_address(address).value\n"
   ]
  },
  {
   "cell_type": "code",
   "execution_count": 3,
   "id": "ff22fa6e",
   "metadata": {},
   "outputs": [],
   "source": [
    "\n",
    "a = [10,2,3]"
   ]
  },
  {
   "cell_type": "code",
   "execution_count": 4,
   "id": "fa8e901f",
   "metadata": {},
   "outputs": [
    {
     "name": "stdout",
     "output_type": "stream",
     "text": [
      "2\n",
      "1\n"
     ]
    }
   ],
   "source": [
    "print(sys.getrefcount(a))\n",
    "print(ref_count(id(a)))"
   ]
  },
  {
   "cell_type": "code",
   "execution_count": 5,
   "id": "7faea120",
   "metadata": {},
   "outputs": [
    {
     "name": "stdout",
     "output_type": "stream",
     "text": [
      "140730927789256\n",
      "2369754417664\n"
     ]
    }
   ],
   "source": [
    "\n",
    "print(id(10)) # These are stored at a constant id and are shared across program\n",
    "print(id(a)) # This will give different outputs"
   ]
  }
 ],
 "metadata": {
  "kernelspec": {
   "display_name": "Python 3 (ipykernel)",
   "language": "python",
   "name": "python3"
  },
  "language_info": {
   "codemirror_mode": {
    "name": "ipython",
    "version": 3
   },
   "file_extension": ".py",
   "mimetype": "text/x-python",
   "name": "python",
   "nbconvert_exporter": "python",
   "pygments_lexer": "ipython3",
   "version": "3.13.5"
  }
 },
 "nbformat": 4,
 "nbformat_minor": 5
}
